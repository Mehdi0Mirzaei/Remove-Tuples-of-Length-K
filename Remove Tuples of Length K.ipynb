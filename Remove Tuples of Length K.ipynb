{
 "cells": [
  {
   "cell_type": "code",
   "execution_count": 10,
   "id": "e51b7edb",
   "metadata": {},
   "outputs": [
    {
     "name": "stdout",
     "output_type": "stream",
     "text": [
      "The original list : [(4, 5), (4,), (8, 6, 7), (1,), (3, 4, 6, 7)]\n",
      "Filtered list : [(4, 5), (8, 6, 7), (3, 4, 6, 7)]\n"
     ]
    }
   ],
   "source": [
    "# initializing list\n",
    "test_list = [(4, 5), (4, ), (8, 6, 7), (1, ), (3, 4, 6, 7)]\n",
    " \n",
    "# printing original list\n",
    "print(\"The original list : \" + str(test_list))\n",
    " \n",
    "# initializing K \n",
    "K = 1\n",
    " \n",
    "# 1 liner to perform task\n",
    "# filter just lengths other than K \n",
    "# len() used to compute length\n",
    "res = [ele for ele in test_list if len(ele) != K]\n",
    " \n",
    "# printing result \n",
    "print(\"Filtered list : \" + str(res))"
   ]
  },
  {
   "cell_type": "code",
   "execution_count": 11,
   "id": "09a808e0",
   "metadata": {},
   "outputs": [
    {
     "name": "stdout",
     "output_type": "stream",
     "text": [
      "The original list : [(4, 5), (4,), (8, 6, 7), (1,), (3, 4, 6, 7)]\n",
      "Filtered list : [(4, 5), (8, 6, 7), (3, 4, 6, 7)]\n"
     ]
    }
   ],
   "source": [
    "# initializing list\n",
    "test_list = [(4, 5), (4, ), (8, 6, 7), (1, ), (3, 4, 6, 7)]\n",
    " \n",
    "# printing original list\n",
    "print(\"The original list : \" + str(test_list))\n",
    " \n",
    "# initializing K \n",
    "K = 1\n",
    " \n",
    "# filter() filters non K length values and returns result\n",
    "res = list(filter(lambda x : len(x) != K, test_list))\n",
    " \n",
    "# printing result \n",
    "print(\"Filtered list : \" + str(res))\n"
   ]
  },
  {
   "cell_type": "code",
   "execution_count": 12,
   "id": "8a010bb1",
   "metadata": {},
   "outputs": [
    {
     "name": "stdout",
     "output_type": "stream",
     "text": [
      "The original list : [(4, 5), (4,), (8, 6, 7), (1,), (3, 4, 6, 7)]\n",
      "Filtered list : [(4, 5), (8, 6, 7), (3, 4, 6, 7)]\n"
     ]
    }
   ],
   "source": [
    "# initializing list\n",
    "test_list = [(4, 5), (4, ), (8, 6, 7), (1, ), (3, 4, 6, 7)]\n",
    " \n",
    "# printing original list\n",
    "print(\"The original list : \" + str(test_list))\n",
    " \n",
    "# initializing K \n",
    "K = 1\n",
    " \n",
    "# using list comprehension to filter out tuples of length K\n",
    "# len() is used to compute length\n",
    "res = [ele for ele in test_list if len(ele) != K]\n",
    " \n",
    "# printing result \n",
    "print(\"Filtered list : \" + str(res))"
   ]
  },
  {
   "cell_type": "code",
   "execution_count": 13,
   "id": "d9069bb4",
   "metadata": {},
   "outputs": [
    {
     "name": "stdout",
     "output_type": "stream",
     "text": [
      "[(4, 5), (8, 6, 7), (3, 4, 6, 7)]\n"
     ]
    }
   ],
   "source": [
    "# input\n",
    "original_list = [(4, 5), (4, ), (8, 6, 7), (1, ), (3, 4, 6, 7)]\n",
    "k = 1\n",
    " \n",
    "# use map() and a lambda function to filter out tuples of length k\n",
    "filtered_list = list(map(lambda x: x, filter(lambda x: len(x) != k, original_list)))\n",
    " \n",
    "# output\n",
    "print(filtered_list)"
   ]
  },
  {
   "cell_type": "code",
   "execution_count": 14,
   "id": "c9273722",
   "metadata": {},
   "outputs": [
    {
     "name": "stdout",
     "output_type": "stream",
     "text": [
      "The original list : [(4, 5), (4,), (8, 6, 7), (1,), (3, 4, 6, 7)]\n",
      "Filtered list : [(4, 5), (8, 6, 7), (3, 4, 6, 7)]\n"
     ]
    }
   ],
   "source": [
    "import heapq\n",
    " \n",
    "# initializing list\n",
    "test_list = [(4, 5), (4, ), (8, 6, 7), (1, ), (3, 4, 6, 7)]\n",
    "# printing original list\n",
    "print(\"The original list : \" + str(test_list))\n",
    "# initializing K\n",
    "K = 1\n",
    " \n",
    "# filtering non K length values using heapq\n",
    "res = list(filter(lambda x: len(x) != K, test_list))\n",
    " \n",
    "# printing result\n",
    "print(\"Filtered list : \" + str(res))"
   ]
  },
  {
   "cell_type": "code",
   "execution_count": null,
   "id": "d2efe875",
   "metadata": {},
   "outputs": [],
   "source": []
  }
 ],
 "metadata": {
  "kernelspec": {
   "display_name": "Python 3 (ipykernel)",
   "language": "python",
   "name": "python3"
  },
  "language_info": {
   "codemirror_mode": {
    "name": "ipython",
    "version": 3
   },
   "file_extension": ".py",
   "mimetype": "text/x-python",
   "name": "python",
   "nbconvert_exporter": "python",
   "pygments_lexer": "ipython3",
   "version": "3.9.13"
  }
 },
 "nbformat": 4,
 "nbformat_minor": 5
}
